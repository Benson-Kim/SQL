{
 "cells": [
  {
   "cell_type": "markdown",
   "metadata": {},
   "source": [
    "# Lab 1: Basic SQL and Jupiter Notebook"
   ]
  },
  {
   "cell_type": "markdown",
   "metadata": {},
   "source": [
    "Please create your own database named lab1.db3"
   ]
  },
  {
   "cell_type": "code",
   "execution_count": 1,
   "metadata": {},
   "outputs": [],
   "source": [
    "%CREATE lab1.db3"
   ]
  },
  {
   "cell_type": "markdown",
   "metadata": {},
   "source": [
    "Q1: Write SQL statements to create a table called MyGraph that can store any directed graph (\"graph\" as in vertices andedges, or nodes and links). You have to carefully design the schema."
   ]
  },
  {
   "cell_type": "code",
   "execution_count": 2,
   "metadata": {},
   "outputs": [],
   "source": [
    "%load lab1.db3"
   ]
  },
  {
   "cell_type": "markdown",
   "metadata": {},
   "source": [
    "Q2: Write SQL statements to store the following graph in your table"
   ]
  },
  {
   "cell_type": "code",
   "execution_count": 3,
   "metadata": {},
   "outputs": [],
   "source": [
    "CREATE TABLE MyGraph(source int not NULL, destination int not NULL);"
   ]
  },
  {
   "cell_type": "code",
   "execution_count": 4,
   "metadata": {},
   "outputs": [],
   "source": [
    "INSERT into MyGraph VALUES (5,11), (7,11), (7,8),(3,8),(3,10),(11,2),\n",
    "(11,9),(11,10),(8,9)"
   ]
  },
  {
   "cell_type": "markdown",
   "metadata": {},
   "source": [
    "Q3: Write a SQL statement that returns all source vertices in your table"
   ]
  },
  {
   "cell_type": "code",
   "execution_count": 5,
   "metadata": {},
   "outputs": [
    {
     "data": {
      "text/html": [
       "<table>\n",
       "<tr>\n",
       "<th>source</th>\n",
       "</tr>\n",
       "<tr>\n",
       "<td>5</td>\n",
       "</tr>\n",
       "<tr>\n",
       "<td>7</td>\n",
       "</tr>\n",
       "<tr>\n",
       "<td>3</td>\n",
       "</tr>\n",
       "<tr>\n",
       "<td>11</td>\n",
       "</tr>\n",
       "<tr>\n",
       "<td>8</td>\n",
       "</tr>\n",
       "</table>"
      ],
      "text/plain": [
       "+--------+\n",
       "| source |\n",
       "+--------+\n",
       "| 5      |\n",
       "+--------+\n",
       "| 7      |\n",
       "+--------+\n",
       "| 3      |\n",
       "+--------+\n",
       "| 11     |\n",
       "+--------+\n",
       "| 8      |\n",
       "+--------+"
      ]
     },
     "execution_count": 5,
     "metadata": {},
     "output_type": "execute_result"
    }
   ],
   "source": [
    "SELECT DISTINCT source FROM MyGraph"
   ]
  },
  {
   "cell_type": "markdown",
   "metadata": {},
   "source": [
    "Q4: Write a SQL statement that returns all edges, such that the source id is larger than the destination id."
   ]
  },
  {
   "cell_type": "code",
   "execution_count": 6,
   "metadata": {},
   "outputs": [
    {
     "data": {
      "text/html": [
       "<table>\n",
       "<tr>\n",
       "<th>source</th>\n",
       "<th>destination</th>\n",
       "</tr>\n",
       "<tr>\n",
       "<td>11</td>\n",
       "<td>2</td>\n",
       "</tr>\n",
       "<tr>\n",
       "<td>11</td>\n",
       "<td>9</td>\n",
       "</tr>\n",
       "<tr>\n",
       "<td>11</td>\n",
       "<td>10</td>\n",
       "</tr>\n",
       "</table>"
      ],
      "text/plain": [
       "+--------+-------------+\n",
       "| source | destination |\n",
       "+--------+-------------+\n",
       "| 11     | 2           |\n",
       "+--------+-------------+\n",
       "| 11     | 9           |\n",
       "+--------+-------------+\n",
       "| 11     | 10          |\n",
       "+--------+-------------+"
      ]
     },
     "execution_count": 6,
     "metadata": {},
     "output_type": "execute_result"
    }
   ],
   "source": [
    "SELECT source, destination from MyGraph WHERE source > destination"
   ]
  },
  {
   "cell_type": "markdown",
   "metadata": {},
   "source": [
    "Q5: Write a SQL statement to add a column of weight to each link on the direct graph"
   ]
  },
  {
   "cell_type": "code",
   "execution_count": 7,
   "metadata": {},
   "outputs": [],
   "source": [
    "ALTER TABLE MyGraph add COLUMN weight INT"
   ]
  },
  {
   "cell_type": "markdown",
   "metadata": {},
   "source": [
    "Q6: Write a SQL statement to ramdonly assign a weight (1-10) to each of the link. (generate a ramdon number with a seed.)"
   ]
  },
  {
   "cell_type": "code",
   "execution_count": 8,
   "metadata": {},
   "outputs": [],
   "source": [
    "UPDATE MyGraph set weight = abs(random() % 11)"
   ]
  },
  {
   "cell_type": "markdown",
   "metadata": {},
   "source": [
    "Q7: Write a SQL to return the distinct values of weights."
   ]
  },
  {
   "cell_type": "code",
   "execution_count": 9,
   "metadata": {},
   "outputs": [
    {
     "data": {
      "text/html": [
       "<table>\n",
       "<tr>\n",
       "<th>weight</th>\n",
       "</tr>\n",
       "<tr>\n",
       "<td>6</td>\n",
       "</tr>\n",
       "<tr>\n",
       "<td>3</td>\n",
       "</tr>\n",
       "<tr>\n",
       "<td>2</td>\n",
       "</tr>\n",
       "</table>"
      ],
      "text/plain": [
       "+--------+\n",
       "| weight |\n",
       "+--------+\n",
       "| 6      |\n",
       "+--------+\n",
       "| 3      |\n",
       "+--------+\n",
       "| 2      |\n",
       "+--------+"
      ]
     },
     "execution_count": 9,
     "metadata": {},
     "output_type": "execute_result"
    }
   ],
   "source": [
    "SELECT DISTINCT weight from MyGraph"
   ]
  },
  {
   "cell_type": "code",
   "execution_count": null,
   "metadata": {},
   "outputs": [],
   "source": []
  }
 ],
 "metadata": {
  "kernelspec": {
   "display_name": "xsqlite",
   "language": "sqlite",
   "name": "xsqlite"
  },
  "language_info": {
   "file_extension": "",
   "mimetype": "",
   "name": "sqlite3",
   "version": "3.30.1"
  }
 },
 "nbformat": 4,
 "nbformat_minor": 4
}
